{
 "cells": [
  {
   "cell_type": "markdown",
   "metadata": {},
   "source": [
    "## 利用Python re 模組來進行正規表達式配對\n",
    "\n",
    "在先前課程中所學的Regular Expression(正規表達式),是可以匹配文字片段的一種模式。要使用Regex來處理字串,我們必須要使用支援Regex的工具。而在Python中的re模組就是專們用來支援處理Regex的模組工具。"
   ]
  },
  {
   "cell_type": "markdown",
   "metadata": {},
   "source": [
    "### Python 字串前綴\n",
    "\n",
    "在正規表達式中，我們常會使用到反斜線(`\\`)來表達一些特殊配對，像是 `\\w: 配對任何數字字母底線`、`\\b: 字詞字元邊界`、`\\s: 任何空白字元` 等等。但在Python中，反斜線(`\\`)會被當作是特殊符號得跳脫字元，像是`\\n`代表換行，加上跳脫字元後`\\\\n`即代表一般`\\n`符號。 \n",
    "\n",
    "為了避免字串中出現過多的反斜線，進而導致難以維護正規表達式的配對，因此我們可以使用原始字串前綴`r\"str\"`。 因此`r\"\\n\" == \"\\\\n\"`。\n",
    "\n",
    "因此為了避免出現特殊符號問題，習慣上我們會將正規表達式的模式對象加上字串前綴。(ex: `r\"\\W\\.\\D\"`)"
   ]
  },
  {
   "cell_type": "code",
   "execution_count": 44,
   "metadata": {},
   "outputs": [
    {
     "name": "stdout",
     "output_type": "stream",
     "text": [
      "this is \n",
      " a test\n",
      "----分隔線----\n",
      "this is \\n a test\n",
      "----分隔線----\n",
      "this is \\n a test\n"
     ]
    }
   ],
   "source": [
    "# 請注意以下的打印差異\n",
    "print('this is \\n a test') #換行\n",
    "print('----分隔線----')\n",
    "print('this is \\\\n a test') #反斜線跳脫字元\n",
    "print('----分隔線----')\n",
    "print(r'this is \\n a test') #原始字串"
   ]
  },
  {
   "cell_type": "markdown",
   "metadata": {},
   "source": [
    "### 建立模式對象(Pattern Object)\n",
    "\n",
    "* `re.compile(pattern, flags=0)`\n",
    "\n",
    "將正規表達式轉為**pattern object**的模式對象。以此方法將其保存下來供後續之用。\n",
    "(但其實這樣的做法是非必要的，詳情請參考延伸閱讀一)\n",
    "(ref: https://codertw.com/%E7%A8%8B%E5%BC%8F%E8%AA%9E%E8%A8%80/656506/)"
   ]
  },
  {
   "cell_type": "code",
   "execution_count": 2,
   "metadata": {},
   "outputs": [
    {
     "name": "stdout",
     "output_type": "stream",
     "text": [
      "SaveTheWorld@hotmail.com\n"
     ]
    }
   ],
   "source": [
    "###使用前章節的電子郵件配對為例###\n",
    "\n",
    "#導入re模組\n",
    "import re\n",
    "\n",
    "#欲配對文本\n",
    "txt = \"SaveTheWorld@hotmail.com \\n foobar@gmail.com\"\n",
    "\n",
    "#建立模式對象\n",
    "pattern_obj = re.compile(pattern=r\"(.*)@(?!gmail)\\w+\\.com\")\n",
    "#進行配對(請注意這裡是使用pattern.search配對)\n",
    "x1 = pattern_obj.search(txt) #先別擔心re.research的作用(後續會說明)\n",
    "print(x1.group())"
   ]
  },
  {
   "cell_type": "code",
   "execution_count": 3,
   "metadata": {},
   "outputs": [
    {
     "name": "stdout",
     "output_type": "stream",
     "text": [
      "SaveTheWorld@hotmail.com\n"
     ]
    }
   ],
   "source": [
    "#不使用模式對象\n",
    "#我們也可以不建立模式對象,直接使用正規表達式配對\n",
    "\n",
    "#遇配對文本\n",
    "txt = \"SaveTheWorld@hotmail.com \\n foobar@gmail.com\"\n",
    "pattern = r\"(.*)@(?!gmail)\\w+\\.com\" #這裡使用原始字串作為配對\n",
    "#進行配對(請注意這裡是使用re.search配對)\n",
    "x2 = re.search(pattern, txt)\n",
    "print(x2.group())"
   ]
  },
  {
   "cell_type": "markdown",
   "metadata": {},
   "source": [
    "### re.search(pattern, string, flags=0)\n",
    "\n",
    "掃描字符串，查詢匹配正規表達式模式的位置，返回**MatchObject**的物件實例。若沒有可匹配的位置，則返回**None**。\n",
    "\n",
    "若有多個可配對位置，只有第一個配對成功的會返回。"
   ]
  },
  {
   "cell_type": "code",
   "execution_count": 4,
   "metadata": {},
   "outputs": [
    {
     "name": "stdout",
     "output_type": "stream",
     "text": [
      "<class 're.Match'>\n",
      "<re.Match object; span=(0, 24), match='SaveTheWorld@hotmail.com'>\n",
      "\n",
      "----分隔線----\n",
      "Match start: 0; Match end: 24\n",
      "\n",
      "----分隔線----\n",
      "Match text: SaveTheWorld@hotmail.com\n"
     ]
    }
   ],
   "source": [
    "###使用前章節的電子郵件配對為例###\n",
    "\n",
    "#欲配對文本\n",
    "txt = \"SaveTheWorld@hotmail.com \\n foobar@gmail.com \\n zzzGroup@yahoo.com\" #這裡我們新增一個email address\n",
    "pattern = r\".*@(?!gmail)\\w+\\.com\" #這裡使用原始字串作為配對\n",
    "\n",
    "#進行配對\n",
    "match = re.search(pattern, txt)\n",
    "print(type(match)) #顯示為re.Match 物件實例\n",
    "print(match)\n",
    "\n",
    "print('\\n----分隔線----')\n",
    "print(f'Match start: {match.start()}; Match end: {match.end()}') #使用.start(), .end()返回配對的起點與終點\n",
    "\n",
    "print('\\n----分隔線----')\n",
    "print(f'Match text: {match.group()}') #使用.group() or .group(0)返回配對的字串\n",
    "\n",
    "#可以由返回的結果發現, re.search()只返回第一個配對的對象, 最後一個email address也符合配對但沒有返回"
   ]
  },
  {
   "cell_type": "code",
   "execution_count": 88,
   "metadata": {},
   "outputs": [
    {
     "name": "stdout",
     "output_type": "stream",
     "text": [
      "None\n"
     ]
    }
   ],
   "source": [
    "#若無可滿足配對, re.search會返回None\n",
    "txt = \"foobar@gmail.com\" #這裡只保留不滿足配對的email\n",
    "pattern = r\".*@(?!gmail)\\w+\\.com\" \n",
    "match = re.search(pattern, txt)\n",
    "print(match)"
   ]
  },
  {
   "cell_type": "markdown",
   "metadata": {},
   "source": [
    "### re.match(pattern, string, flags=0)\n",
    "\n",
    "從字串開始的位置進行配對，只會配對字串開頭，若配對成功則返回**Match**的物件實例。若失敗則返回**None**。"
   ]
  },
  {
   "cell_type": "code",
   "execution_count": 102,
   "metadata": {},
   "outputs": [
    {
     "name": "stdout",
     "output_type": "stream",
     "text": [
      "<class 're.Match'>\n",
      "<re.Match object; span=(0, 24), match='SaveTheWorld@hotmail.com'>\n",
      "\n",
      "----分隔線----\n",
      "Match start: 0; Match end: 24\n",
      "\n",
      "----分隔線----\n",
      "Match text: SaveTheWorld@hotmail.com\n"
     ]
    }
   ],
   "source": [
    "###使用前章節的電子郵件配對為例###\n",
    "\n",
    "#欲配對文本\n",
    "txt = \"SaveTheWorld@hotmail.com \\n foobar@gmail.com \\n zzzGroup@yahoo.com\" \n",
    "pattern = r\".*@(?!gmail)\\w+\\.com\" #這裡使用原始字串作為配對\n",
    "\n",
    "#進行配對\n",
    "match = re.match(pattern, txt)\n",
    "print(type(match)) #顯示為re.Match 物件實例\n",
    "print(match)\n",
    "\n",
    "print('\\n----分隔線----')\n",
    "print(f'Match start: {match.start()}; Match end: {match.end()}') #使用.start(), .end()返回配對的起點與終點\n",
    "\n",
    "print('\\n----分隔線----')\n",
    "print(f'Match text: {match.group()}') #使用.group() or .group(0)返回配對的字串\n",
    "\n",
    "#發現第一個開頭配對成功後返回Match物件實例"
   ]
  },
  {
   "cell_type": "code",
   "execution_count": 96,
   "metadata": {},
   "outputs": [
    {
     "name": "stdout",
     "output_type": "stream",
     "text": [
      "None\n"
     ]
    }
   ],
   "source": [
    "#若開頭無法配對成功，即返回None\n",
    "txt = \"foobar@gmail.com \\n SaveTheWorld@hotmail.com \\n zzzGroup@yahoo.com\" #這裡我們將不符合配對的email移到字串開頭\n",
    "pattern = r\".*@(?!gmail)\\w+\\.com\" \n",
    "match = re.match(pattern, txt)\n",
    "print(match)"
   ]
  },
  {
   "cell_type": "markdown",
   "metadata": {},
   "source": [
    "### re.findall(pattern, string, flags=0)\n",
    "掃描字符串，找到正規表達式所配對的**所有**子串，並組成一個列表(list)返回。若沒有配對成功，則返回空列表(list)。"
   ]
  },
  {
   "cell_type": "code",
   "execution_count": 100,
   "metadata": {},
   "outputs": [
    {
     "name": "stdout",
     "output_type": "stream",
     "text": [
      "<class 'list'>\n",
      "['SaveTheWorld@hotmail.com', ' zzzGroup@yahoo.com']\n"
     ]
    }
   ],
   "source": [
    "###使用前章節的電子郵件配對為例###\n",
    "\n",
    "#欲配對文本\n",
    "txt = \"SaveTheWorld@hotmail.com \\n foobar@gmail.com \\n zzzGroup@yahoo.com\" \n",
    "pattern = r\".*@(?!gmail)\\w+\\.com\" #這裡使用原始字串作為配對\n",
    "\n",
    "#進行配對\n",
    "match = re.findall(pattern, txt)\n",
    "print(type(match)) #list 物件實力\n",
    "print(match)"
   ]
  },
  {
   "cell_type": "code",
   "execution_count": 108,
   "metadata": {},
   "outputs": [
    {
     "name": "stdout",
     "output_type": "stream",
     "text": [
      "<class 'list'>\n",
      "[('SaveTheWorld', 'hotmail'), (' zzzGroup', 'yahoo')]\n"
     ]
    }
   ],
   "source": [
    "###使用前章節的電子郵件配對為例###\n",
    "\n",
    "#欲配對文本\n",
    "txt = \"SaveTheWorld@hotmail.com \\n foobar@gmail.com \\n zzzGroup@yahoo.com\"\n",
    "pattern = r\"(.*)@(?!gmail)(\\w+)\\.com\" #將.* 改為 group的形式(.*), 且 \\w+ 改為 (\\w+)\n",
    "\n",
    "#進行配對\n",
    "match = re.findall(pattern, txt)\n",
    "print(type(match)) \n",
    "print(match)\n",
    "\n",
    "#可以發現返回的list變成符合配對的email裡面的group字串"
   ]
  },
  {
   "cell_type": "markdown",
   "metadata": {},
   "source": [
    "### re.finditer(pattern, string, flags=0)\n",
    "和findall類似, 在字符串中找尋正規表達式可以匹配的所有子字串，並返回一個迭代器(iterator)。"
   ]
  },
  {
   "cell_type": "code",
   "execution_count": 9,
   "metadata": {},
   "outputs": [
    {
     "name": "stdout",
     "output_type": "stream",
     "text": [
      "<class 'callable_iterator'>\n",
      "\n",
      "----分隔線----\n",
      "<re.Match object; span=(0, 24), match='SaveTheWorld@hotmail.com'>\n",
      "Match start: 0; Match end: 24\n",
      "Match text: SaveTheWorld@hotmail.com\n",
      "\n",
      "----分隔線----\n",
      "<re.Match object; span=(45, 64), match=' zzzGroup@yahoo.com'>\n",
      "Match start: 45; Match end: 64\n",
      "Match text:  zzzGroup@yahoo.com\n",
      "\n",
      "----分隔線----\n"
     ]
    }
   ],
   "source": [
    "###使用前章節的電子郵件配對為例###\n",
    "\n",
    "#欲配對文本\n",
    "txt = \"SaveTheWorld@hotmail.com \\n foobar@gmail.com \\n zzzGroup@yahoo.com\" \n",
    "pattern = r\".*@(?!gmail)\\w+\\.com\" #這裡使用原始字串作為配對\n",
    "\n",
    "#進行配對\n",
    "match = re.finditer(pattern, txt)\n",
    "print(type(match)) #iterator 物件實例\n",
    "print('\\n----分隔線----')\n",
    "for ma in match:\n",
    "    print(ma)\n",
    "    print(f'Match start: {ma.start()}; Match end: {ma.end()}') #使用.start(), .end()返回配對的起點與終點\n",
    "    print(f'Match text: {ma.group()}') #使用.group() or .group(0)返回配對的字串\n",
    "    print('\\n----分隔線----')"
   ]
  },
  {
   "cell_type": "markdown",
   "metadata": {},
   "source": [
    "### re.sub(pattern, repl, string, count=0, flags=0)\n",
    "在字符串中找到正規表達式匹配的子字串，使用另外一個字串repl替換匹配的字串。若沒有可匹配的字串，即返回未被修改的原始字串。\n",
    "\n",
    "count變數可以用來指定要替代的次數，如果count是0(預設值)，所有成功配對的都修改。"
   ]
  },
  {
   "cell_type": "code",
   "execution_count": 132,
   "metadata": {},
   "outputs": [
    {
     "data": {
      "text/plain": [
       "'REPLACE \\n foobar@gmail.com \\nREPLACE'"
      ]
     },
     "execution_count": 132,
     "metadata": {},
     "output_type": "execute_result"
    }
   ],
   "source": [
    "###使用前章節的電子郵件配對為例###\n",
    "\n",
    "#欲配對文本\n",
    "txt = \"SaveTheWorld@hotmail.com \\n foobar@gmail.com \\n zzzGroup@yahoo.com\" \n",
    "pattern = r\".*@(?!gmail)\\w+\\.com\" #這裡使用原始字串作為配對\n",
    "\n",
    "#進行配對\n",
    "match = re.sub(pattern, 'REPLACE', txt, count=0)\n",
    "match #配對到的email都修改為REPLACE"
   ]
  },
  {
   "cell_type": "code",
   "execution_count": 133,
   "metadata": {},
   "outputs": [
    {
     "data": {
      "text/plain": [
       "'REPLACE \\n foobar@gmail.com \\n zzzGroup@yahoo.com'"
      ]
     },
     "execution_count": 133,
     "metadata": {},
     "output_type": "execute_result"
    }
   ],
   "source": [
    "###使用前章節的電子郵件配對為例###\n",
    "\n",
    "#欲配對文本\n",
    "txt = \"SaveTheWorld@hotmail.com \\n foobar@gmail.com \\n zzzGroup@yahoo.com\" \n",
    "pattern = r\".*@(?!gmail)\\w+\\.com\" #這裡使用原始字串作為配對\n",
    "\n",
    "#進行配對\n",
    "match = re.sub(pattern, 'REPLACE', txt, count=1) #將count設為1\n",
    "match #只有一個配對到的修改為REPLACE"
   ]
  },
  {
   "cell_type": "markdown",
   "metadata": {},
   "source": [
    "### re.subn(pattern, repl, string, count=0, flags=0) \n",
    "功能與`re.sub()`基本上相同，但在返回值時會同時返回新的字符串與替換次數。"
   ]
  },
  {
   "cell_type": "code",
   "execution_count": 134,
   "metadata": {},
   "outputs": [
    {
     "data": {
      "text/plain": [
       "('REPLACE \\n foobar@gmail.com \\nREPLACE', 2)"
      ]
     },
     "execution_count": 134,
     "metadata": {},
     "output_type": "execute_result"
    }
   ],
   "source": [
    "###使用前章節的電子郵件配對為例###\n",
    "\n",
    "#欲配對文本\n",
    "txt = \"SaveTheWorld@hotmail.com \\n foobar@gmail.com \\n zzzGroup@yahoo.com\" \n",
    "pattern = r\".*@(?!gmail)\\w+\\.com\" #這裡使用原始字串作為配對\n",
    "\n",
    "#進行配對\n",
    "match = re.subn(pattern, 'REPLACE', txt, count=0)\n",
    "match #可以發現一共配對替換2次"
   ]
  },
  {
   "cell_type": "code",
   "execution_count": 136,
   "metadata": {},
   "outputs": [
    {
     "data": {
      "text/plain": [
       "('REPLACE \\n foobar@gmail.com \\n zzzGroup@yahoo.com', 1)"
      ]
     },
     "execution_count": 136,
     "metadata": {},
     "output_type": "execute_result"
    }
   ],
   "source": [
    "###使用前章節的電子郵件配對為例###\n",
    "\n",
    "#欲配對文本\n",
    "txt = \"SaveTheWorld@hotmail.com \\n foobar@gmail.com \\n zzzGroup@yahoo.com\" \n",
    "pattern = r\".*@(?!gmail)\\w+\\.com\" #這裡使用原始字串作為配對\n",
    "\n",
    "#進行配對\n",
    "match = re.subn(pattern, 'REPLACE', txt, count=1) #將count設為1\n",
    "match #只配對替換1次"
   ]
  },
  {
   "cell_type": "markdown",
   "metadata": {},
   "source": [
    "### re.split(pattern, string, maxsplit=0, flags=0)\n",
    "利用正規表達式將成功配對的字串部分分割為一個列表，並返回分割後的列表。\n",
    "其中`maxsplit`是用來指定最多切割多少份，若是0(預設值)，則所有配對成功的都會進行切割。"
   ]
  },
  {
   "cell_type": "code",
   "execution_count": 138,
   "metadata": {},
   "outputs": [
    {
     "data": {
      "text/plain": [
       "['SaveTheWorld@hotmail.com ', ' foobar@gmail.com ', ' zzzGroup@yahoo.com']"
      ]
     },
     "execution_count": 138,
     "metadata": {},
     "output_type": "execute_result"
    }
   ],
   "source": [
    "###使用前章節的電子郵件配對為例###\n",
    "\n",
    "#欲配對文本\n",
    "txt = \"SaveTheWorld@hotmail.com \\n foobar@gmail.com \\n zzzGroup@yahoo.com\" \n",
    "pattern = r\"\\n\" #這裡改為配對換行符號\n",
    "\n",
    "#進行配對\n",
    "match = re.split(pattern, txt)\n",
    "match"
   ]
  },
  {
   "cell_type": "code",
   "execution_count": 139,
   "metadata": {},
   "outputs": [
    {
     "data": {
      "text/plain": [
       "['SaveTheWorld@hotmail.com ', ' foobar@gmail.com \\n zzzGroup@yahoo.com']"
      ]
     },
     "execution_count": 139,
     "metadata": {},
     "output_type": "execute_result"
    }
   ],
   "source": [
    "###使用前章節的電子郵件配對為例###\n",
    "\n",
    "#欲配對文本\n",
    "txt = \"SaveTheWorld@hotmail.com \\n foobar@gmail.com \\n zzzGroup@yahoo.com\" \n",
    "pattern = r\"\\n\" #這裡改為配對換行符號\n",
    "\n",
    "#進行配對\n",
    "match = re.split(pattern, txt, maxsplit=1) #設定最多只配對分割一組\n",
    "match"
   ]
  },
  {
   "cell_type": "markdown",
   "metadata": {},
   "source": [
    "### flags參數\n",
    "\n",
    "此參數可以控制匹配模式，大部分的匹配模式都可以直接使用正規表達式的規則寫出，但此參數提供我們更方便的方法來控制匹配模式。例如:\n",
    "\n",
    "* re.I (re.IGNORECASE): 忽略大小寫模式\n",
    "* re.M (re.MULTILINE): 多行模式\n",
    "* re.S (re.DOTALL): 讓`.`可以匹配所有的字元 (原本`.`無法匹配換行字元)\n",
    "\n",
    "可以使用`|`來結合多種模式"
   ]
  },
  {
   "cell_type": "code",
   "execution_count": 154,
   "metadata": {},
   "outputs": [
    {
     "name": "stdout",
     "output_type": "stream",
     "text": [
      "<class 'list'>\n",
      "['eo', 'kevin']\n",
      "\n",
      "----分隔線----\n",
      "<class 'list'>\n",
      "['Leo', 'kevin']\n"
     ]
    }
   ],
   "source": [
    "###re.IGNORECASE###\n",
    "\n",
    "#欲配對文本\n",
    "txt = \"Leo123 \\nkevin456 \\n\"\n",
    "pattern = r\"[a-z]+\" #配對所有小寫a-z字符 \n",
    "\n",
    "#進行配對_1\n",
    "match = re.findall(pattern, txt) #使用預設的一般配對模式\n",
    "print(type(match)) \n",
    "print(match)\n",
    "#可以發現無法配對大寫的L\n",
    "\n",
    "print('\\n----分隔線----')\n",
    "\n",
    "#進行配對_2\n",
    "match2 = re.findall(pattern, txt, flags=re.I)\n",
    "print(type(match)) \n",
    "print(match2)\n",
    "#可以發現再加上 re.I後, 可以互略大小寫的配對"
   ]
  },
  {
   "cell_type": "code",
   "execution_count": 156,
   "metadata": {},
   "outputs": [
    {
     "name": "stdout",
     "output_type": "stream",
     "text": [
      "<class 'list'>\n",
      "['Leo']\n",
      "\n",
      "----分隔線----\n",
      "<class 'list'>\n",
      "['Leo', 'kevin']\n"
     ]
    }
   ],
   "source": [
    "###re.MULTILINE###\n",
    "\n",
    "#欲配對文本\n",
    "txt = \"Leo123 \\nkevin456 \\n\"\n",
    "pattern = r\"^[a-zA-Z]+\" #配對所有開頭是a-z或是A-Z的字元\n",
    "\n",
    "#進行配對_1\n",
    "match = re.findall(pattern, txt) #使用預設的一般配對模式\n",
    "print(type(match)) \n",
    "print(match)\n",
    "#可以發現只配對到Leo (因為在一般配對模式下, 文本被視為一個含有\\n的長字串)\n",
    "\n",
    "print('\\n----分隔線----')\n",
    "\n",
    "#進行配對_2\n",
    "match2 = re.findall(pattern, txt, flags=re.M) #使用多行配對模式\n",
    "print(type(match)) \n",
    "print(match2)\n",
    "#可以發現加上re.M後，可以配對到Leo, Kevin (因為在\\n換行符號後會視為新的字串來配對)"
   ]
  },
  {
   "cell_type": "code",
   "execution_count": 159,
   "metadata": {},
   "outputs": [
    {
     "name": "stdout",
     "output_type": "stream",
     "text": [
      "<class 'list'>\n",
      "['Leo123 ', 'kevin456 ']\n",
      "\n",
      "----分隔線----\n",
      "<class 'list'>\n",
      "['Leo123 \\nkevin456 \\n']\n"
     ]
    }
   ],
   "source": [
    "###re.DOTALL###\n",
    "\n",
    "#欲配對文本\n",
    "txt = \"Leo123 \\nkevin456 \\n\"\n",
    "pattern = r\".+\" #配對所有開頭是a-z或是A-Z的字元\n",
    "\n",
    "#進行配對_1\n",
    "match = re.findall(pattern, txt) #使用預設的一般配對模式\n",
    "print(type(match)) \n",
    "print(match)\n",
    "#配對的內容不包含\\n字串\n",
    "\n",
    "print('\\n----分隔線----')\n",
    "\n",
    "#進行配對_2\n",
    "match2 = re.findall(pattern, txt, flags=re.S) #使用DOTALL配對模式\n",
    "print(type(match)) \n",
    "print(match2)\n",
    "#這樣配對也包含了\\n換行符號"
   ]
  },
  {
   "cell_type": "code",
   "execution_count": 164,
   "metadata": {},
   "outputs": [
    {
     "name": "stdout",
     "output_type": "stream",
     "text": [
      "<class 'list'>\n",
      "[]\n",
      "\n",
      "----分隔線----\n",
      "<class 'list'>\n",
      "['Leo', 'kevin']\n"
     ]
    }
   ],
   "source": [
    "###結合多種配對模式 (re.I|re.M)###\n",
    "\n",
    "#欲配對文本\n",
    "txt = \"Leo123 \\nkevin456 \\n\"\n",
    "pattern = r\"^[a-z]+\" #配對所有開頭是a-z\n",
    "\n",
    "#進行配對_1\n",
    "match = re.findall(pattern, txt) #使用預設的一般配對模式\n",
    "print(type(match)) \n",
    "print(match)\n",
    "#一般模式下，找不到可配對字串\n",
    "\n",
    "print('\\n----分隔線----')\n",
    "\n",
    "#進行配對_2\n",
    "match2 = re.findall(pattern, txt, flags=re.I|re.M) #使用多行配對模式\n",
    "print(type(match)) \n",
    "print(match2)\n",
    "#可以發現加上re.I|re.M後，可以配對到Leo, kevin"
   ]
  },
  {
   "cell_type": "markdown",
   "metadata": {},
   "source": [
    "### Reference:\n",
    "\n",
    "https://regexone.com/references/python\n",
    "\n",
    "https://www.w3schools.com/python/python_regex.asp#findall\n",
    "\n",
    "https://docs.python.org/3.6/library/re.html#re.IGNORECASE (更多的flags模式)\n",
    "\n",
    "https://chrisalbon.com/python/data_wrangling/regex_by_example/\n",
    "\n",
    "https://chrisalbon.com/python/data_wrangling/regular_expressions_basics/"
   ]
  },
  {
   "cell_type": "markdown",
   "metadata": {},
   "source": [
    "# 作業目標: 使用python正規表達式對資料進行清洗處理\n",
    "\n",
    "這份作業我們會使用詐欺郵件的文本資料來作為清洗與處理的操作。\n",
    "[資料集](https://www.kaggle.com/rtatman/fraudulent-email-corpus/data#)"
   ]
  },
  {
   "cell_type": "markdown",
   "metadata": {},
   "source": [
    "### Q1: 讀入資料文本\n",
    "因原始文本較大，先使用部份擷取的**sample_emails.txt**來進行練習"
   ]
  },
  {
   "cell_type": "code",
   "execution_count": 1,
   "metadata": {},
   "outputs": [
    {
     "data": {
      "text/plain": [
       "'D:\\\\Ting File\\\\自我進修\\\\20201115 Part1 - NLP經典機器學習馬拉松'"
      ]
     },
     "execution_count": 1,
     "metadata": {},
     "output_type": "execute_result"
    }
   ],
   "source": [
    "import os\n",
    "os.getcwd() #查看目前供做的路徑 "
   ]
  },
  {
   "cell_type": "code",
   "execution_count": 27,
   "metadata": {
    "scrolled": true
   },
   "outputs": [
    {
     "data": {
      "text/plain": [
       "'From r  Wed Oct 30 21:41:56 2002\\nReturn-Path: <james_ngola2002@maktoob.com>\\nX-Sieve: cmu-sieve 2.0\\nReturn-Path: <james_ngola2002@maktoob.com>\\nMessage-Id: <200210310241.g9V2fNm6028281@cs.CU>\\nFrom: \"MR. JAMES NGOLA.\" <james_ngola2002@maktoob.com>\\nReply-To: james_ngola2002@maktoob.com\\nTo: webmaster@aclweb.org\\nDate: Thu, 31 Oct 2002 02:38:20 +0000\\nSubject: URGENT BUSINESS ASSISTANCE AND PARTNERSHIP\\nX-Mailer: Microsoft Outlook Express 5.00.2919.6900 DM\\nMIME-Version: 1.0\\nContent-Type: text/plain; charset=\"us-ascii\"\\nContent-Transfer-Encoding: 8bit\\nX-MIME-Autoconverted: from quoted-printable to 8bit by sideshowmel.si.UM id g9V2foW24311\\nStatus: O\\n\\nFROM:MR. JAMES NGOLA.\\nCONFIDENTIAL TEL: 233-27-587908.\\nE-MAIL: (james_ngola2002@maktoob.com).\\n\\nURGENT BUSINESS ASSISTANCE AND PARTNERSHIP.\\n\\n\\nDEAR FRIEND,\\n\\nI AM ( DR.) JAMES NGOLA, THE PERSONAL ASSISTANCE TO THE LATE CONGOLESE (PRESIDENT LAURENT KABILA) WHO WAS ASSASSINATED BY HIS BODY GUARD ON 16TH JAN. 2001.\\n\\n\\nTHE INCIDENT OCCURRED IN OUR PRESENCE WHILE WE WERE HOLDING MEETING WITH HIS EXCELLENCY OVER THE FINANCIAL RETURNS FROM THE DIAMOND SALES IN THE AREAS CONTROLLED BY (D.R.C.) DEMOCRATIC REPUBLIC OF CONGO FORCES AND THEIR FOREIGN ALLIES ANGOLA AND ZIMBABWE, HAVING RECEIVED THE PREVIOUS DAY (USD$100M) ONE HUNDRED MILLION UNITED STATES DOLLARS, CASH IN THREE DIPLOMATIC BOXES ROUTED THROUGH ZIMBABWE.\\n\\nMY PURPOSE OF WRITING YOU THIS LETTER IS TO SOLICIT FOR YOUR ASSISTANCE AS TO BE A COVER TO THE FUND AND ALSO COLLABORATION IN MOVING THE SAID FUND INTO YOUR BANK ACCOUNT THE SUM OF (USD$25M) TWENTY FIVE MILLION UNITED STATES DOLLARS ONLY, WHICH I DEPOSITED WITH A SECURITY COMPANY IN GHANA, IN A DIPLOMATIC BOX AS GOLDS WORTH (USD$25M) TWENTY FIVE MILLION UNITED STATES DOLLARS ONLY FOR SAFE KEEPING IN A SECURITY VAULT FOR ANY FURTHER INVESTMENT PERHAPS IN YOUR COUNTRY. \\n\\nYOU WERE INTRODUCED TO ME BY A RELIABLE FRIEND OF MINE WHO IS A TRAVELLER,AND ALSO A MEMBER OF CHAMBER OF COMMERCE AS A RELIABLE AND TRUSTWORTHY PERSON WHOM I CAN RELY ON AS FOREIGN PARTNER, EVEN THOUGH THE NATURE OF THE TRANSACTION WAS NOT REVEALED TO HIM FOR SECURITY REASONS.\\n\\n\\nTHE (USD$25M) WAS PART OF A PROCEEDS FROM DIAMOND TRADE MEANT FOR THE LATE PRESIDENT LAURENT KABILA WHICH WAS DELIVERED THROUGH ZIMBABWE IN DIPLOMATIC BOXES. THE BOXES WERE KEPT UNDER MY CUSTODY BEFORE THE SAD EVENT THAT TOOK THE LIFE OF (MR. PRESIDENT).THE CONFUSION THAT ENSUED AFTER THE ASSASSINATION AND THE SPORADIC SHOOTING AMONG THE FACTIONS, I HAVE TO RUN AWAY FROM THE COUNTRY FOR MY DEAR LIFE AS I AM NOT A SOLDIER BUT A CIVIL SERVANT I CROSSED RIVER CONGO TO OTHER SIDE OF CONGO LIBREVILLE FROM THERE I MOVED TO THE THIRD COUNTRY GHANA WHERE I AM PRESENTLY TAKING REFUGE. \\n\\nAS A MATTER OF FACT, WHAT I URGENTLY NEEDED FROM YOU IS YOUR ASSISTANCE IN MOVING THIS MONEY INTO YOUR ACCOUNT IN YOUR COUNTRY FOR INVESTMENT WITHOUT RAISING EYEBROW. FOR YOUR ASSISTANCE I WILL GIVE YOU 20% OF THE TOTAL SUM AS YOUR OWN SHARE WHEN THE MONEY GETS TO YOUR ACCOUNT, WHILE 75% WILL BE FOR ME, OF WHICH WITH YOUR KIND ADVICE I HOPE TO INVEST IN PROFITABLE VENTURE IN YOUR COUNTRY IN OTHER TO SETTLE DOWN FOR MEANINGFUL LIFE, AS I AM TIRED OF LIVING IN A WAR ENVIRONMENT. \\n\\nTHE REMAINING 5% WILL BE USED TO OFFSET ANY COST INCURRED IN THE CAUSE OF MOVING THE MONEY TO YOUR ACCOUNT. IF THE PROPOSAL IS ACCEPTABLE TO YOU PLEASE CONTACT ME IMMEDIATELY THROUGH THE ABOVE TELEPHONE AND E-MAIL, TO ENABLE ME ARRANGE FACE TO FACE MEETING WITH YOU IN GHANA FOR THE CLEARANCE OF THE FUNDS BEFORE TRANSFRING IT TO YOUR BANK ACCOUNT AS SEEING IS BELIEVING. \\n\\nFINALLY, IT IS IMPORTANT ALSO THAT I LET YOU UNDERSTAND THAT THERE IS NO RISK INVOLVED WHATSOEVER AS THE MONEY HAD NO RECORD IN KINSHASA FOR IT WAS MEANT FOR THE PERSONAL USE OF (MR. PRESIDEND ) BEFORE THE NEFARIOUS INCIDENT OCCURRED, AND ALSO I HAVE ALL THE NECESSARY DOCUMENTS AS REGARDS TO THE FUNDS INCLUDING THE (CERTIFICATE OF DEPOSIT), AS I AM THE DEPOSITOR OF THE CONSIGNMENT.\\n\\n\\nLOOKING FORWARD TO YOUR URGENT RESPONSE.\\n\\nYOUR SINCERELY,\\n\\nMR. JAMES NGOLA. \\n\\n\\n\\n\\n\\n\\n\\n\\n\\n\\nFrom r  Thu Oct 31 08:11:39 2002\\nReturn-Path: <bensul2004nng@spinfinder.com>\\nX-Sieve: cmu-sieve 2.0\\nReturn-Path: <bensul2004nng@spinfinder.com>\\nMessage-Id: <200210311310.g9VDANt24674@bloodwork.mr.itd.UM>\\nFrom: \"Mr. Ben Suleman\" <bensul2004nng@spinfinder.com>\\nDate: Thu, 31 Oct 2002 05:10:00\\nTo: R@M\\nSubject: URGENT ASSISTANCE /RELATIONSHIP (P)\\nMIME-Version: 1.0\\nContent-Type: text/plain;charset=\"iso-8859-1\"\\nContent-Transfer-Encoding: 7bit\\nStatus: O\\n\\nDear Friend,\\n\\nI am Mr. Ben Suleman a custom officer and work as Assistant controller of the Customs and Excise department Of the Federal Ministry of Internal Affairs stationed at the Murtala Mohammed International Airport, Ikeja, Lagos-Nigeria.\\n\\nAfter the sudden death of the former Head of state of Nigeria General Sanni Abacha on June 8th 1998 his aides and immediate members of his family were arrested while trying to escape from Nigeria in a Chartered jet to Saudi Arabia with 6 trunk boxes Marked \"Diplomatic Baggage\". Acting on a tip-off as they attempted to board the Air Craft,my officials carried out a thorough search on the air craft and discovered that the 6 trunk boxes contained foreign currencies amounting to US$197,570,000.00(One Hundred and  Ninety-Seven Million Five Hundred Seventy Thousand United States Dollars).\\n\\nI declared only (5) five boxes to the government and withheld one (1) in my custody containing the sum of (US$30,000,000.00) Thirty Million United States Dollars Only, which has been disguised to prevent their being discovered during transportation process.Due to several media reports on the late head of state about all the money him and his co-government officials stole from our government treasury amounting\\nto US$55 Billion Dollars (ref:ngrguardiannews.com) of July 2nd 1999. Even the London times of July 1998 reported that General Abacha has over US$3.Billion dollars in one account overseas. We decided to conceal this one (1)box till the situation is calm and quite on the issue. The box was thus deposited with a security company here in Nigeria and tagged as \"Precious Stones and Jewellry\" in other that its\\ncontent will not be discovered. Now that all is calm, we (myself and two of my colleagues in the operations team) are now ready to move this box out of the country through a diplomatic arrangement which is the safest means. \\n\\nHowever as government officials the Civil Service Code of Conduct does not allow us by law to operate any foreign account or own foreign investment and the amount of money that can be found in our account\\ncannot be more than our salary on the average, thus our handicapp and our need for your assistance to help collect and keep safely in your account this money.\\n\\nTherefore we want you to assist us in moving this money out of Nigeria. We shall definitely compensate you handsomely for the assistance. We can do this by instructing the Security Company here in Nigeria to\\nmove the consignment to their affiliate branch office outside Nigeria through diplomatic means and the consignment will be termed as Precious Stones and Jewelleries\" which you bought during your visit to Nigeria and is being transfered to your country from here for safe keeping. Then we can arrange to meet at the destination country to take the delivery of the consignment. You will thereafter open an account there and lodge the Money there and gradually instruct remittance to your Country. \\n\\nThis business is 100% risk free for you so please treat this matter with utmost confidentiality .If you indicate your interest to assist us please just e-mail me for more Explanation on how we plan to execute the transaction.\\n\\nExpecting your response urgently.\\n\\nBest regards,\\n\\nMr. Ben Suleman\\n\\nFrom r  Thu Oct 31 17:27:16 2002\\nReturn-Path: <obong_715@epatra.com>\\nX-Sieve: cmu-sieve 2.0\\nReturn-Path: <obong_715@epatra.com>\\nMessage-Id: <200210312227.g9VMQvDj017948@bluewhale.cs.CU>\\nFrom: \"PRINCE OBONG ELEME\" <obong_715@epatra.com>\\nReply-To: obong_715@epatra.com\\nTo: webmaster@aclweb.org\\nDate: Thu, 31 Oct 2002 22:17:55 +0100\\nSubject: GOOD DAY TO YOU\\nX-Mailer: Microsoft Outlook Express 5.00.2919.6900DM\\nMIME-Version: 1.0\\nContent-Type: text/plain; charset=\"us-ascii\"\\nContent-Transfer-Encoding: 8bit\\nX-MIME-Autoconverted: from quoted-printable to 8bit by sideshowmel.si.UM id g9VMRBW20642\\nStatus: RO\\n\\nFROM HIS ROYAL MAJESTY (HRM) CROWN RULER OF ELEME KINGDOM \\nCHIEF DANIEL ELEME, PHD, EZE 1 OF ELEME.E-MAIL \\nADDRESS:obong_715@epatra.com  \\n\\nATTENTION:PRESIDENT,CEO Sir/ Madam. \\n\\nThis letter might surprise you because we have met\\nneither in person nor by correspondence. But I believe\\nit is one day that you got to know somebody either in\\nphysical or through correspondence. \\n\\nI got your contact through discreet inquiry from the\\nchambers of commerce and industry of your country on\\nthe net, you and your organization were revealed as\\nbeing quite astute in private entrepreneurship, one\\nhas no doubt in your ability to handle a financialbusiness transaction. \\n\\nHowever, I am the first son of His Royal\\nmajesty,Obong.D. Eleme , and the traditional Ruler of\\nEleme Province in the oil producing area of River\\nState of Nigeria. I am making this contact to you in\\nrespect of US$60,000,000.00 (Sixty Million United\\nState Dollars), which I inherited, from my latefather. \\n\\nThis money was accumulated from royalties paid to my\\nfather as compensation by the oil firms located in our\\narea as a result of oil presence on our land, which\\nhamper agriculture, which is our major source oflivelihood. \\n\\nUnfortunately my father died from protracted\\ndiabetes.But before his death he called my attention\\nand informed me that he lodged some funds on a two\\nboxes with a security firm with an open beneficiary\\nstatus. The lodgment security code number was also\\nrevealed to me, he then advised me to look for a\\nreliable business partner abroad, that will assist me\\nin investing the money in a lucrative business as a\\nresult of economic instability in Nigeria. So this is\\nthe main reason why I am contacting you for us to move\\nthis money from the security firm to any Country of\\nyour choice for investment purpose. \\n\\nSo I will like you to be the ultimate beneficiary, so\\nthat the funds can be moved in your name and\\nparticulars to any Country of your choice where it\\nwill be claimed and invested. Hence my father have had\\nintimated the security firm personnel that the\\nbeneficiary of the box is his foreign partner whose\\nparticulars will be forwarded to the firm when due. \\n\\nBut I will guide you Accordingly. As soon as the funds\\nreach, I will then come over to meet you in person, so\\nthat we can discuss physically on investment\\npotentials. Based on this assistance my Family and I\\nhave unanimously decided to give you 30% of the total\\nmoney, 5% for Charity home, 10% for expenses, which\\nmay arise during this transaction, Fax and phone bills\\ninclusive. The balance of 55% you will invest andmanaged for my Family. \\n\\nI hereby guarantee you that this is not government\\nmoney, it is not drug money and it is not money from\\narms deal. Though you have to maintain high degree of\\nconfidentiality on this matter. I will give more\\ndetails about the proceedings of this transaction as\\nsoon as I receive your favorable reply. \\n\\nPlease reply to my Email Address:obong_715@epatra.com\\nI hope this will be the beginning of a prosperous\\nrelationship between my family and your family. \\n\\nNevertheless if you are for any reason not interested,\\nkindly inform me immediately so that I will look foranother contact. \\n\\nI am waiting for your quick response. \\n\\nYours faithfully, \\n\\nPrince Obong Abbot \\n'"
      ]
     },
     "execution_count": 27,
     "metadata": {},
     "output_type": "execute_result"
    }
   ],
   "source": [
    "#讀取文本資料\n",
    "#import chardet  #補充：由於不同字元在不同系統會影響讀取,可以使用chardet可以找到檔案的編碼\n",
    "with open('data/sample_emails.txt', 'r') as f:  #注意不使用'rb'而是使用'r'; 報錯解決方案 TypeError: cannot use a string pattern on a bytes-like object\n",
    "    sample_corpus = f.read()\n",
    "sample_corpus"
   ]
  },
  {
   "cell_type": "markdown",
   "metadata": {},
   "source": [
    "### Q2: 讀取寄件者資訊\n",
    "觀察文本資料可以發現, 寄件者資訊都符合以下格式\n",
    "\n",
    "`From: <收件者姓名> <收件者電子郵件>`\n"
   ]
  },
  {
   "cell_type": "code",
   "execution_count": 30,
   "metadata": {},
   "outputs": [
    {
     "data": {
      "text/plain": [
       "['From: \"MR. JAMES NGOLA.\" <james_ngola2002@maktoob.com>',\n",
       " 'From: \"Mr. Ben Suleman\" <bensul2004nng@spinfinder.com>',\n",
       " 'From: \"PRINCE OBONG ELEME\" <obong_715@epatra.com>']"
      ]
     },
     "execution_count": 30,
     "metadata": {},
     "output_type": "execute_result"
    }
   ],
   "source": [
    "#導入re模組\n",
    "import re\n",
    "\n",
    "pattern=r'From:.*?>'\n",
    "\n",
    "Q2match = re.findall(pattern, sample_corpus)\n",
    "Q2match"
   ]
  },
  {
   "cell_type": "markdown",
   "metadata": {},
   "source": [
    "### Q3: 只讀取寄件者姓名"
   ]
  },
  {
   "cell_type": "code",
   "execution_count": 31,
   "metadata": {},
   "outputs": [
    {
     "data": {
      "text/plain": [
       "[' \"MR. JAMES NGOLA.\" ', ' \"Mr. Ben Suleman\" ', ' \"PRINCE OBONG ELEME\" ']"
      ]
     },
     "execution_count": 31,
     "metadata": {},
     "output_type": "execute_result"
    }
   ],
   "source": [
    "pattern=r'From:(.*?)<'\n",
    "\n",
    "Q3match = re.findall(pattern, sample_corpus)\n",
    "Q3match"
   ]
  },
  {
   "cell_type": "markdown",
   "metadata": {},
   "source": [
    "### Q4:只讀取寄件者電子信箱"
   ]
  },
  {
   "cell_type": "code",
   "execution_count": 32,
   "metadata": {},
   "outputs": [
    {
     "data": {
      "text/plain": [
       "['james_ngola2002@maktoob.com',\n",
       " 'bensul2004nng@spinfinder.com',\n",
       " 'obong_715@epatra.com']"
      ]
     },
     "execution_count": 32,
     "metadata": {},
     "output_type": "execute_result"
    }
   ],
   "source": [
    "pattern=r'From:.*?<(.*?)>'\n",
    "\n",
    "Q4match = re.findall(pattern, sample_corpus)\n",
    "Q4match"
   ]
  },
  {
   "cell_type": "markdown",
   "metadata": {},
   "source": [
    "### Q5:只讀取電子信箱中的寄件機構資訊\n",
    "ex: james_ngola2002@maktoob.com --> 取maktoob"
   ]
  },
  {
   "cell_type": "code",
   "execution_count": 65,
   "metadata": {},
   "outputs": [
    {
     "data": {
      "text/plain": [
       "'james_ngola2002@maktoob.com'"
      ]
     },
     "execution_count": 65,
     "metadata": {},
     "output_type": "execute_result"
    }
   ],
   "source": [
    "pattern=r'From:.*?@(.*?).com>'\n",
    "\n",
    "Q5match = re.findall(pattern, sample_corpus)\n",
    "Q5match"
   ]
  },
  {
   "cell_type": "markdown",
   "metadata": {},
   "source": [
    "### Q6: 結合上面的配對方式, 將寄件者的帳號與機構訊返回\n",
    "ex: james_ngola2002@maktoob.com --> [james_ngola2002, maktoob]"
   ]
  },
  {
   "cell_type": "code",
   "execution_count": 40,
   "metadata": {},
   "outputs": [
    {
     "data": {
      "text/plain": [
       "[('james_ngola2002', 'maktoob'),\n",
       " ('bensul2004nng', 'spinfinder'),\n",
       " ('obong_715', 'epatra')]"
      ]
     },
     "execution_count": 40,
     "metadata": {},
     "output_type": "execute_result"
    }
   ],
   "source": [
    "pattern=r'From: .*?\" <(.*?)@(.*?).com>'\n",
    "\n",
    "Q6match = re.findall(pattern, sample_corpus)\n",
    "Q6match"
   ]
  },
  {
   "cell_type": "markdown",
   "metadata": {},
   "source": [
    "### Q7: 使用正規表達式對email資料進行處理\n",
    "這裡我們會使用到python其他的套件協助處理(ex: pandas, email, etc)，這裡我們只需要專注在正規表達式上即可，其他的套件是方便我們整理與處理資料。"
   ]
  },
  {
   "cell_type": "markdown",
   "metadata": {},
   "source": [
    "### Q7.1: 讀取與切分Email\n",
    "讀入的email為一個長字串，利用正規表達式切割讀入的資料成一封一封的email，並將結果以list表示。\n",
    "\n",
    "輸出: [email_1, email_2, email_3, ....]"
   ]
  },
  {
   "cell_type": "code",
   "execution_count": 52,
   "metadata": {},
   "outputs": [
    {
     "data": {
      "text/plain": [
       "{'encoding': 'Windows-1252', 'confidence': 0.7297905053093415, 'language': ''}"
      ]
     },
     "execution_count": 52,
     "metadata": {},
     "output_type": "execute_result"
    }
   ],
   "source": [
    "import chardet  #由於不同字元在不同系統會影響讀取, 因此使用chardet可以找到檔案的編碼\n",
    "with open('data/all_emails.txt', 'rb') as f:\n",
    "    result = chardet.detect(f.read()) \n",
    "result"
   ]
  },
  {
   "cell_type": "code",
   "execution_count": 53,
   "metadata": {},
   "outputs": [
    {
     "data": {
      "text/plain": [
       "3976"
      ]
     },
     "execution_count": 53,
     "metadata": {},
     "output_type": "execute_result"
    }
   ],
   "source": [
    "import re\n",
    "\n",
    "###讀取文本資料:fradulent_emails.txt###\n",
    "#<your code>#\n",
    "with open('data/all_emails.txt', 'r',\n",
    "          encoding=result['encoding']) as f: \n",
    "    all_corpus = f.read()\n",
    "\n",
    "###切割讀入的資料成一封一封的email###\n",
    "    #str.replace(old, new[, max])\n",
    "    #str.split(str=\"\", num=string.count(str)).\n",
    "    #sample_corpus.replace('\\nFrom r', '\\nsplitmarkFrom r').split(\"splitmark\")\n",
    "emails=all_corpus.replace('\\nFrom r', '\\nsplitmarkFrom r').split(\"splitmark\")\n",
    "\n",
    "len(emails)"
   ]
  },
  {
   "cell_type": "markdown",
   "metadata": {},
   "source": [
    "### Q7.2: 從文本中擷取所有寄件者與收件者的姓名和地址"
   ]
  },
  {
   "cell_type": "code",
   "execution_count": 84,
   "metadata": {},
   "outputs": [
    {
     "name": "stdout",
     "output_type": "stream",
     "text": [
      "3\n",
      "Q7match: [('MR. JAMES NGOLA.', 'james_ngola2002@maktoob.com'), ('Mr. Ben Suleman', 'bensul2004nng@spinfinder.com'), ('PRINCE OBONG ELEME', 'obong_715@epatra.com')]\n",
      "Q7match[0]: ('MR. JAMES NGOLA.', 'james_ngola2002@maktoob.com')\n",
      "Q7match[0][1]: james_ngola2002@maktoob.com\n",
      "0 {'FROM_NAME': 'MR. JAMES NGOLA.', 'FROM_ADRESS': 'james_ngola2002@maktoob.com'}\n",
      "1 {'FROM_NAME': 'MR. JAMES NGOLA.Mr. Ben Suleman', 'FROM_ADRESS': 'james_ngola2002@maktoob.combensul2004nng@spinfinder.com'}\n",
      "2 {'FROM_NAME': 'MR. JAMES NGOLA.Mr. Ben SulemanPRINCE OBONG ELEME', 'FROM_ADRESS': 'james_ngola2002@maktoob.combensul2004nng@spinfinder.comobong_715@epatra.com'}\n",
      "{'FROM_NAME': 'MR. JAMES NGOLA.Mr. Ben SulemanPRINCE OBONG ELEME', 'FROM_ADRESS': 'james_ngola2002@maktoob.combensul2004nng@spinfinder.comobong_715@epatra.com'}\n"
     ]
    }
   ],
   "source": [
    "#test\n",
    "pattern=r'From: \"(.*?)\" <(.*?)>'\n",
    "Q7match = re.findall(pattern, sample_corpus)\n",
    "print(len(Q7match))\n",
    "print(\"Q7match:\" , Q7match)\n",
    "print(\"Q7match[0]:\" , Q7match[0])\n",
    "print(\"Q7match[0][1]:\" , Q7match[0][1])\n",
    "#Step1: 取的寄件者資訊 (hint: From:)\n",
    "test_dict = dict()\n",
    "for i in range(len(Q7match)):\n",
    "    test_dict=dict(FROM_NAME=Q7match[i][0], FROM_ADRESS=Q7match[i][1])\n",
    "    print(i, test_dict)\n",
    "print(test_dict)"
   ]
  },
  {
   "cell_type": "code",
   "execution_count": 87,
   "metadata": {},
   "outputs": [
    {
     "data": {
      "text/plain": [
       "[' webmaster@aclweb.org', ' R@M', ' webmaster@aclweb.org']"
      ]
     },
     "execution_count": 87,
     "metadata": {},
     "output_type": "execute_result"
    }
   ],
   "source": [
    "###取的收件者姓名與地址###\n",
    "pattern=r'\\nTo:(.*?)\\n'\n",
    "Q7match = re.findall(pattern, sample_corpus)\n",
    "Q7match"
   ]
  },
  {
   "cell_type": "code",
   "execution_count": null,
   "metadata": {},
   "outputs": [],
   "source": [
    "import email\n",
    "emails_list = [] #創建空list來儲存所有email資訊\n",
    "\n",
    "for mail in emails[:20]: #只取前20筆資料 (處理速度比較快)\n",
    "    emails_dict = dict() #創建空字典儲存資訊\n",
    "    ###取的寄件者姓名與地址###\n",
    "    \n",
    "    #Step1: 取的寄件者資訊 (hint: From:)\n",
    "    pattern=r'From: (.*?) <(.*?)>'\n",
    "    Q7match = re.findall(pattern, sample_corpus)\n",
    "\n",
    "    \n",
    "    #Step2: 取的姓名與地址 (hint: 要注意有時會有沒取到配對的情況)\n",
    "    #<your code>#\n",
    "    \n",
    "    #Step3: 將取得的姓名與地址存入字典中\n",
    "    emails_dict = \n",
    "        \n",
    "    \n",
    "    ###取的收件者姓名與地址###\n",
    "    #Step1: 取的寄件者資訊 (hint: To:)\n",
    "    #<your code>#\n",
    "    \n",
    "    #Step2: 取的姓名與地址 (hint: 要注意有時會有沒取到配對的情況)\n",
    "    #<your code>#\n",
    "        \n",
    "    #Step3: 將取得的姓名與地址存入字典中\n",
    "    #<your code>#\n",
    "        \n",
    "        \n",
    "    ###取得信件日期###\n",
    "    #Step1: 取得日期資訊 (hint: To:)\n",
    "    #<your code>#\n",
    "    \n",
    "    #Step2: 取得詳細日期(只需取得DD MMM YYYY  「^(0?[1-9]|[12][0-9]|3[01])/-[/-]\\d{4}$」)\n",
    "    #<your code>#\n",
    "        \n",
    "    #Step3: 將取得的日期資訊存入字典中\n",
    "    #<your code>#\n",
    "        \n",
    "        \n",
    "    ###取得信件主旨###\n",
    "    #Step1: 取得主旨資訊 (hint: Subject:)\n",
    "    #<your code>#\n",
    "    \n",
    "    #Step2: 移除不必要文字 (hint: Subject: )\n",
    "    #<your code>#\n",
    "    \n",
    "    #Step3: 將取得的主旨存入字典中\n",
    "    #<your code>#\n",
    "    \n",
    "    \n",
    "    ###取得信件內文###\n",
    "    #這裡我們使用email package來取出email內文 (可以不需深究，本章節重點在正規表達式)\n",
    "    try:\n",
    "        full_email = email.message_from_string(mail)\n",
    "        body = full_email.get_payload()\n",
    "        emails_dict[\"email_body\"] = body\n",
    "    except:\n",
    "        emails_dict[\"email_body\"] = None\n",
    "    \n",
    "    ###將字典加入list###\n",
    "    #<your code>#"
   ]
  },
  {
   "cell_type": "code",
   "execution_count": null,
   "metadata": {},
   "outputs": [],
   "source": [
    "#將處理結果轉化為dataframe\n",
    "emails_df = pd.DataFrame(emails_list)\n",
    "emails_df"
   ]
  }
 ],
 "metadata": {
  "kernelspec": {
   "display_name": "Python 3",
   "language": "python",
   "name": "python3"
  },
  "language_info": {
   "codemirror_mode": {
    "name": "ipython",
    "version": 3
   },
   "file_extension": ".py",
   "mimetype": "text/x-python",
   "name": "python",
   "nbconvert_exporter": "python",
   "pygments_lexer": "ipython3",
   "version": "3.8.5"
  }
 },
 "nbformat": 4,
 "nbformat_minor": 2
}
